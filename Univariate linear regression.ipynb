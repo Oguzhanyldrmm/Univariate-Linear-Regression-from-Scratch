{
 "cells": [
  {
   "cell_type": "code",
   "execution_count": 2,
   "id": "bdf52c5d",
   "metadata": {},
   "outputs": [],
   "source": [
    "import numpy as np\n",
    "import pandas as pd\n",
    "import matplotlib.pyplot as plt"
   ]
  },
  {
   "cell_type": "markdown",
   "id": "54f4d1c9",
   "metadata": {},
   "source": [
    "**Data Preparing**"
   ]
  },
  {
   "cell_type": "code",
   "execution_count": 3,
   "id": "6721444e",
   "metadata": {},
   "outputs": [],
   "source": [
    "data = pd.read_csv('yillara gore il nufuslari2000-2008.csv')"
   ]
  },
  {
   "cell_type": "code",
   "execution_count": 4,
   "id": "808e0425",
   "metadata": {},
   "outputs": [],
   "source": [
    "data = data.iloc[10,:]\n",
    "data = pd.DataFrame(data)"
   ]
  },
  {
   "cell_type": "code",
   "execution_count": 5,
   "id": "2107cbe8",
   "metadata": {},
   "outputs": [],
   "source": [
    "data = data.rename(columns={10: 'Antalya'})\n",
    "data = data.drop('Yıllara göre il nüfusları, 2000-2021')\n"
   ]
  },
  {
   "cell_type": "code",
   "execution_count": 6,
   "id": "2fc67478",
   "metadata": {},
   "outputs": [
    {
     "name": "stdout",
     "output_type": "stream",
     "text": [
      "Antalya    int32\n",
      "Yıllar     int64\n",
      "dtype: object\n"
     ]
    }
   ],
   "source": [
    "data = data.reset_index(drop=True)\n",
    "data['Yıllar'] = pd.Series(range(2000, 2000+len(data)), index=data.index)\n",
    "data['Antalya'] = data['Antalya'].apply(lambda x : x.replace(' ',''))\n",
    "convert_dict = {'Antalya': int}\n",
    " \n",
    "data = data.astype(convert_dict)\n",
    "\n",
    "print(data.dtypes)\n",
    "data['Antalya'] = data['Antalya'].apply(lambda x : x/1000000)\n",
    "data['Yıllar'] = data['Yıllar'].apply(lambda x : x-2000)\n"
   ]
  },
  {
   "cell_type": "code",
   "execution_count": 8,
   "id": "98ab62a4",
   "metadata": {},
   "outputs": [
    {
     "data": {
      "text/html": [
       "<div>\n",
       "<style scoped>\n",
       "    .dataframe tbody tr th:only-of-type {\n",
       "        vertical-align: middle;\n",
       "    }\n",
       "\n",
       "    .dataframe tbody tr th {\n",
       "        vertical-align: top;\n",
       "    }\n",
       "\n",
       "    .dataframe thead th {\n",
       "        text-align: right;\n",
       "    }\n",
       "</style>\n",
       "<table border=\"1\" class=\"dataframe\">\n",
       "  <thead>\n",
       "    <tr style=\"text-align: right;\">\n",
       "      <th></th>\n",
       "      <th>Antalya</th>\n",
       "      <th>Yıllar</th>\n",
       "    </tr>\n",
       "  </thead>\n",
       "  <tbody>\n",
       "    <tr>\n",
       "      <th>0</th>\n",
       "      <td>1.430539</td>\n",
       "      <td>0</td>\n",
       "    </tr>\n",
       "    <tr>\n",
       "      <th>1</th>\n",
       "      <td>1.480282</td>\n",
       "      <td>1</td>\n",
       "    </tr>\n",
       "    <tr>\n",
       "      <th>2</th>\n",
       "      <td>1.529110</td>\n",
       "      <td>2</td>\n",
       "    </tr>\n",
       "    <tr>\n",
       "      <th>3</th>\n",
       "      <td>1.578367</td>\n",
       "      <td>3</td>\n",
       "    </tr>\n",
       "    <tr>\n",
       "      <th>4</th>\n",
       "      <td>1.629338</td>\n",
       "      <td>4</td>\n",
       "    </tr>\n",
       "  </tbody>\n",
       "</table>\n",
       "</div>"
      ],
      "text/plain": [
       "    Antalya  Yıllar\n",
       "0  1.430539       0\n",
       "1  1.480282       1\n",
       "2  1.529110       2\n",
       "3  1.578367       3\n",
       "4  1.629338       4"
      ]
     },
     "execution_count": 8,
     "metadata": {},
     "output_type": "execute_result"
    }
   ],
   "source": [
    "data.head()"
   ]
  },
  {
   "cell_type": "code",
   "execution_count": 9,
   "id": "b8360c51",
   "metadata": {},
   "outputs": [],
   "source": [
    "x_train = data.iloc[:,1]\n",
    "y_train = data.iloc[:,0]"
   ]
  },
  {
   "cell_type": "code",
   "execution_count": 10,
   "id": "2c612187",
   "metadata": {},
   "outputs": [
    {
     "name": "stdout",
     "output_type": "stream",
     "text": [
      "Shape of x_train is:  (22,)\n",
      "Shape of y_train is:  (22,)\n",
      "Number of trainin examples (m):  22\n"
     ]
    }
   ],
   "source": [
    "print('Shape of x_train is: ',x_train.shape)\n",
    "print('Shape of y_train is: ',y_train.shape)\n",
    "print('Number of trainin examples (m): ',len(x_train))"
   ]
  },
  {
   "cell_type": "code",
   "execution_count": 11,
   "id": "9c502551",
   "metadata": {},
   "outputs": [
    {
     "data": {
      "image/png": "[encoded data removed]",
      "text/plain": [
       "<Figure size 640x480 with 1 Axes>"
      ]
     },
     "metadata": {},
     "output_type": "display_data"
    },
    {
     "data": {
      "text/plain": [
       "<Figure size 2100x1500 with 0 Axes>"
      ]
     },
     "metadata": {},
     "output_type": "display_data"
    }
   ],
   "source": [
    "# Create a scatter plot of the data. To change the markers to red \"x\",\n",
    "plt.scatter(x_train,y_train, marker='x',c='r')\n",
    "\n",
    "# Set the title\n",
    "plt.title('Population Changes Over The Years In Antalya City')\n",
    "\n",
    "# Set the y-axis\n",
    "plt.ylabel('Population (Million)')\n",
    "\n",
    "# Set the x-axis\n",
    "plt.xlabel(\"Years (2000's)\")\n",
    "\n",
    "\n",
    "plt.figure(figsize=(7,5), dpi=300)\n",
    "plt.show()"
   ]
  },
  {
   "cell_type": "markdown",
   "id": "5de42665",
   "metadata": {},
   "source": [
    "**Linear Regression Functions**"
   ]
  },
  {
   "cell_type": "code",
   "execution_count": 12,
   "id": "29000ca7",
   "metadata": {},
   "outputs": [],
   "source": [
    "def compute_cost(x,y,w,b): # Squared error cost function\n",
    "    m = x.shape[0] # Number of training examples\n",
    "    \n",
    "    total_cost = 0\n",
    "    for i in range(m):\n",
    "        f_wb = w * x[i] + b\n",
    "        cost = (f_wb - y[i])**2\n",
    "        total_cost += cost\n",
    "    return total_cost/(2*m)\n",
    "        "
   ]
  },
  {
   "cell_type": "code",
   "execution_count": 13,
   "id": "d5fbe66e",
   "metadata": {},
   "outputs": [],
   "source": [
    "def gradient(x,y,w,b):\n",
    "    m = x.shape[0]\n",
    "    \n",
    "    dj_dw = 0\n",
    "    dj_db = 0\n",
    "       \n",
    "    for i in range(m):\n",
    "        f_wb = w * x[i] + b\n",
    "        dj_dw += (f_wb - y[i])*x[i]\n",
    "        dj_db += (f_wb - y[i])\n",
    "    dj_dw = dj_dw/m\n",
    "    dj_db = dj_db/m\n",
    "    \n",
    "    return dj_dw,dj_db"
   ]
  },
  {
   "cell_type": "code",
   "execution_count": 14,
   "id": "aac15703",
   "metadata": {},
   "outputs": [],
   "source": [
    "def gradient_descent(x,y,w_in,b_in,cost_function,gradient_function,alpha,num_iters):\n",
    "    \n",
    "    # Number of training examples\n",
    "    m = x.shape[0] \n",
    "    \n",
    "    # Store cost J and w each iterations\n",
    "    J_history = []\n",
    "    w_history = []\n",
    "    \n",
    "    w = w_in\n",
    "    b = b_in\n",
    "    \n",
    "    \n",
    "    for i in range(num_iters):\n",
    "        # Calculate gradients\n",
    "        dj_dw, dj_db = gradient_function(x,y,w,b)\n",
    "        \n",
    "        # Update parameters simultaneously\n",
    "        w = w - alpha*dj_dw\n",
    "        b = b - alpha*dj_db\n",
    "        \n",
    "        # Save cost J at each iterations\n",
    "        if i<100000: # Prevent ending of iterations \n",
    "            cost = cost_function(x,y,w,b)\n",
    "            J_history.append(cost)\n",
    "        \n",
    "        # Print cost and at every iterations/10 times\n",
    "        if i%(num_iters/10)== 0:\n",
    "            w_history.append(w)\n",
    "            print(f\"Iteration {i:4}: Cost {float(J_history[-1]):8.2f}  \")\n",
    "            \n",
    "    return w,b,J_history,w_history\n",
    "    \n",
    "    "
   ]
  },
  {
   "cell_type": "code",
   "execution_count": 15,
   "id": "da38c781",
   "metadata": {},
   "outputs": [],
   "source": [
    "# Setting initial values for w and b\n",
    "initial_w = 0.0\n",
    "initial_b = 0.0\n",
    "\n",
    "# Setting other values\n",
    "iterations = 1500\n",
    "alpha = 0.01"
   ]
  },
  {
   "cell_type": "code",
   "execution_count": 16,
   "id": "b2096565",
   "metadata": {},
   "outputs": [
    {
     "name": "stdout",
     "output_type": "stream",
     "text": [
      "Iteration    0: Cost     0.74  \n",
      "Iteration  150: Cost     0.12  \n",
      "Iteration  300: Cost     0.05  \n",
      "Iteration  450: Cost     0.02  \n",
      "Iteration  600: Cost     0.01  \n",
      "Iteration  750: Cost     0.00  \n",
      "Iteration  900: Cost     0.00  \n",
      "Iteration 1050: Cost     0.00  \n",
      "Iteration 1200: Cost     0.00  \n",
      "Iteration 1350: Cost     0.00  \n",
      "w and b found by gradient descent:  0.05907940071680304 1.3826375797114114\n"
     ]
    }
   ],
   "source": [
    "w,b,J_history,w_history = gradient_descent(x_train,y_train,initial_w,initial_b,compute_cost,gradient,alpha,iterations)\n",
    "print(\"w and b found by gradient descent: \" , w, b)"
   ]
  },
  {
   "cell_type": "code",
   "execution_count": 17,
   "id": "5d7159ee",
   "metadata": {},
   "outputs": [],
   "source": [
    "m = x_train.shape[0]\n",
    "predicted = np.zeros(m)\n",
    "\n",
    "for i in range(m):\n",
    "    predicted[i] = w * x_train[i] + b\n"
   ]
  },
  {
   "cell_type": "code",
   "execution_count": 18,
   "id": "549329fb",
   "metadata": {},
   "outputs": [
    {
     "data": {
      "image/png": "[encoded data removed]",
      "text/plain": [
       "<Figure size 640x480 with 1 Axes>"
      ]
     },
     "metadata": {},
     "output_type": "display_data"
    },
    {
     "data": {
      "text/plain": [
       "<Figure size 2100x1500 with 0 Axes>"
      ]
     },
     "metadata": {},
     "output_type": "display_data"
    }
   ],
   "source": [
    "# Plot the linear fit\n",
    "plt.plot(x_train, predicted, c = 'b')\n",
    "\n",
    "# Show data set at table\n",
    "plt.scatter(x_train, y_train, marker ='x', c='r')\n",
    "\n",
    "#Set the title\n",
    "plt.title('Population Changes Over The Years In Antalya City')\n",
    "\n",
    "#Set the y-axis\n",
    "plt.ylabel('Population (Million)')\n",
    "\n",
    "#Set the x-axis\n",
    "plt.xlabel(\"Years (2000's)\")\n",
    "\n",
    "\n",
    "plt.figure(figsize=(7,5), dpi=300)\n",
    "plt.show()"
   ]
  },
  {
   "cell_type": "code",
   "execution_count": 19,
   "id": "5827b3f5",
   "metadata": {},
   "outputs": [],
   "source": [
    "# A function which shows prediction of years according to algorithm\n",
    "def enter_year():\n",
    "    year = int(input('Please enter a year that you wonder: ' ))\n",
    "    predicted_year = w * (year-2000) + b\n",
    "    print(f\"Population of Antalya in {year} is {predicted_year:.2f} million\")"
   ]
  },
  {
   "cell_type": "code",
   "execution_count": 20,
   "id": "423d85dd",
   "metadata": {},
   "outputs": [
    {
     "name": "stdout",
     "output_type": "stream",
     "text": [
      "Please enter a year that you wonder: 2017\n",
      "Population of Antalya in 2017 is 2.39 million\n"
     ]
    }
   ],
   "source": [
    "enter_year()"
   ]
  },
  {
   "cell_type": "code",
   "execution_count": null,
   "id": "80983363",
   "metadata": {},
   "outputs": [],
   "source": []
  }
 ],
 "metadata": {
  "kernelspec": {
   "display_name": "Python 3 (ipykernel)",
   "language": "python",
   "name": "python3"
  },
  "language_info": {
   "codemirror_mode": {
    "name": "ipython",
    "version": 3
   },
   "file_extension": ".py",
   "mimetype": "text/x-python",
   "name": "python",
   "nbconvert_exporter": "python",
   "pygments_lexer": "ipython3",
   "version": "3.9.13"
  }
 },
 "nbformat": 4,
 "nbformat_minor": 5
}
